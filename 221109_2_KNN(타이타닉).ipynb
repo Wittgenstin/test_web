{
 "cells": [
  {
   "cell_type": "markdown",
   "id": "7234c1c4",
   "metadata": {
    "id": "7234c1c4"
   },
   "source": [
    "# K-NN (타이타닉 데이터)\n",
    "- 스케일러별 결과 비교"
   ]
  },
  {
   "cell_type": "code",
   "execution_count": 1,
   "id": "e46f2b3c",
   "metadata": {
    "id": "e46f2b3c"
   },
   "outputs": [],
   "source": [
    "# 필요 라이브러리 import\n",
    "import numpy as np\n",
    "import pandas as pd\n",
    "from sklearn.model_selection import train_test_split\n",
    "from sklearn.neighbors import KNeighborsClassifier\n",
    "from sklearn.metrics import accuracy_score\n",
    "from sklearn.preprocessing import StandardScaler, MinMaxScaler, RobustScaler\n",
    "from sklearn.linear_model import LogisticRegression"
   ]
  },
  {
   "cell_type": "markdown",
   "id": "7dd91a10",
   "metadata": {
    "id": "7dd91a10"
   },
   "source": [
    "## 1. 데이터 불러오기"
   ]
  },
  {
   "cell_type": "code",
   "execution_count": 2,
   "id": "4a01ab69",
   "metadata": {
    "id": "4a01ab69"
   },
   "outputs": [],
   "source": [
    "file_url = \"https://raw.githubusercontent.com/bigdata-young/bigdata_16th/main/data/titanic_train.csv\"\n",
    "df_raw = pd.read_csv(file_url, index_col=0)\n",
    "pd.options.display.float_format = '{:.2f}'.format"
   ]
  },
  {
   "cell_type": "code",
   "execution_count": 3,
   "id": "c0331a96",
   "metadata": {
    "id": "c0331a96",
    "outputId": "6062fef4-caab-43de-e32c-b73c40d29395"
   },
   "outputs": [
    {
     "data": {
      "text/html": [
       "<div>\n",
       "<style scoped>\n",
       "    .dataframe tbody tr th:only-of-type {\n",
       "        vertical-align: middle;\n",
       "    }\n",
       "\n",
       "    .dataframe tbody tr th {\n",
       "        vertical-align: top;\n",
       "    }\n",
       "\n",
       "    .dataframe thead th {\n",
       "        text-align: right;\n",
       "    }\n",
       "</style>\n",
       "<table border=\"1\" class=\"dataframe\">\n",
       "  <thead>\n",
       "    <tr style=\"text-align: right;\">\n",
       "      <th></th>\n",
       "      <th>Survived</th>\n",
       "      <th>Pclass</th>\n",
       "      <th>Name</th>\n",
       "      <th>Sex</th>\n",
       "      <th>Age</th>\n",
       "      <th>SibSp</th>\n",
       "      <th>Parch</th>\n",
       "      <th>Ticket</th>\n",
       "      <th>Fare</th>\n",
       "      <th>Cabin</th>\n",
       "      <th>Embarked</th>\n",
       "    </tr>\n",
       "    <tr>\n",
       "      <th>PassengerId</th>\n",
       "      <th></th>\n",
       "      <th></th>\n",
       "      <th></th>\n",
       "      <th></th>\n",
       "      <th></th>\n",
       "      <th></th>\n",
       "      <th></th>\n",
       "      <th></th>\n",
       "      <th></th>\n",
       "      <th></th>\n",
       "      <th></th>\n",
       "    </tr>\n",
       "  </thead>\n",
       "  <tbody>\n",
       "    <tr>\n",
       "      <th>1</th>\n",
       "      <td>0</td>\n",
       "      <td>3</td>\n",
       "      <td>Braund, Mr. Owen Harris</td>\n",
       "      <td>male</td>\n",
       "      <td>22.00</td>\n",
       "      <td>1</td>\n",
       "      <td>0</td>\n",
       "      <td>A/5 21171</td>\n",
       "      <td>7.25</td>\n",
       "      <td>NaN</td>\n",
       "      <td>S</td>\n",
       "    </tr>\n",
       "    <tr>\n",
       "      <th>2</th>\n",
       "      <td>1</td>\n",
       "      <td>1</td>\n",
       "      <td>Cumings, Mrs. John Bradley (Florence Briggs Th...</td>\n",
       "      <td>female</td>\n",
       "      <td>38.00</td>\n",
       "      <td>1</td>\n",
       "      <td>0</td>\n",
       "      <td>PC 17599</td>\n",
       "      <td>71.28</td>\n",
       "      <td>C85</td>\n",
       "      <td>C</td>\n",
       "    </tr>\n",
       "    <tr>\n",
       "      <th>3</th>\n",
       "      <td>1</td>\n",
       "      <td>3</td>\n",
       "      <td>Heikkinen, Miss. Laina</td>\n",
       "      <td>female</td>\n",
       "      <td>26.00</td>\n",
       "      <td>0</td>\n",
       "      <td>0</td>\n",
       "      <td>STON/O2. 3101282</td>\n",
       "      <td>7.92</td>\n",
       "      <td>NaN</td>\n",
       "      <td>S</td>\n",
       "    </tr>\n",
       "    <tr>\n",
       "      <th>4</th>\n",
       "      <td>1</td>\n",
       "      <td>1</td>\n",
       "      <td>Futrelle, Mrs. Jacques Heath (Lily May Peel)</td>\n",
       "      <td>female</td>\n",
       "      <td>35.00</td>\n",
       "      <td>1</td>\n",
       "      <td>0</td>\n",
       "      <td>113803</td>\n",
       "      <td>53.10</td>\n",
       "      <td>C123</td>\n",
       "      <td>S</td>\n",
       "    </tr>\n",
       "    <tr>\n",
       "      <th>5</th>\n",
       "      <td>0</td>\n",
       "      <td>3</td>\n",
       "      <td>Allen, Mr. William Henry</td>\n",
       "      <td>male</td>\n",
       "      <td>35.00</td>\n",
       "      <td>0</td>\n",
       "      <td>0</td>\n",
       "      <td>373450</td>\n",
       "      <td>8.05</td>\n",
       "      <td>NaN</td>\n",
       "      <td>S</td>\n",
       "    </tr>\n",
       "  </tbody>\n",
       "</table>\n",
       "</div>"
      ],
      "text/plain": [
       "             Survived  Pclass  \\\n",
       "PassengerId                     \n",
       "1                   0       3   \n",
       "2                   1       1   \n",
       "3                   1       3   \n",
       "4                   1       1   \n",
       "5                   0       3   \n",
       "\n",
       "                                                          Name     Sex   Age  \\\n",
       "PassengerId                                                                    \n",
       "1                                      Braund, Mr. Owen Harris    male 22.00   \n",
       "2            Cumings, Mrs. John Bradley (Florence Briggs Th...  female 38.00   \n",
       "3                                       Heikkinen, Miss. Laina  female 26.00   \n",
       "4                 Futrelle, Mrs. Jacques Heath (Lily May Peel)  female 35.00   \n",
       "5                                     Allen, Mr. William Henry    male 35.00   \n",
       "\n",
       "             SibSp  Parch            Ticket  Fare Cabin Embarked  \n",
       "PassengerId                                                       \n",
       "1                1      0         A/5 21171  7.25   NaN        S  \n",
       "2                1      0          PC 17599 71.28   C85        C  \n",
       "3                0      0  STON/O2. 3101282  7.92   NaN        S  \n",
       "4                1      0            113803 53.10  C123        S  \n",
       "5                0      0            373450  8.05   NaN        S  "
      ]
     },
     "execution_count": 3,
     "metadata": {},
     "output_type": "execute_result"
    }
   ],
   "source": [
    "df_raw.head()"
   ]
  },
  {
   "cell_type": "code",
   "execution_count": 4,
   "id": "9e130d40",
   "metadata": {
    "id": "9e130d40",
    "outputId": "72322a8c-5491-447a-e600-621f8f378115"
   },
   "outputs": [
    {
     "name": "stdout",
     "output_type": "stream",
     "text": [
      "<class 'pandas.core.frame.DataFrame'>\n",
      "Int64Index: 891 entries, 1 to 891\n",
      "Data columns (total 11 columns):\n",
      " #   Column    Non-Null Count  Dtype  \n",
      "---  ------    --------------  -----  \n",
      " 0   Survived  891 non-null    int64  \n",
      " 1   Pclass    891 non-null    int64  \n",
      " 2   Name      891 non-null    object \n",
      " 3   Sex       891 non-null    object \n",
      " 4   Age       714 non-null    float64\n",
      " 5   SibSp     891 non-null    int64  \n",
      " 6   Parch     891 non-null    int64  \n",
      " 7   Ticket    891 non-null    object \n",
      " 8   Fare      891 non-null    float64\n",
      " 9   Cabin     204 non-null    object \n",
      " 10  Embarked  889 non-null    object \n",
      "dtypes: float64(2), int64(4), object(5)\n",
      "memory usage: 83.5+ KB\n"
     ]
    }
   ],
   "source": [
    "df_raw.info()"
   ]
  },
  {
   "cell_type": "markdown",
   "id": "29d777b2",
   "metadata": {
    "id": "29d777b2"
   },
   "source": [
    "## 2. 전처리 - 결측치 대체, 변수 변환 및 제거, 훈련/시험 set 분리"
   ]
  },
  {
   "cell_type": "code",
   "execution_count": 5,
   "id": "6668fc3d",
   "metadata": {
    "id": "6668fc3d"
   },
   "outputs": [],
   "source": [
    "# 전처리 사용자 정의 함수\n",
    "def pre_processing(df : pd.DataFrame) :\n",
    "    # 컬럼명 소문자 변환\n",
    "    df.columns = df.columns.str.lower()\n",
    "    # embarked 결측치 S로 대체\n",
    "    df['embarked'] = df['embarked'].fillna(\"S\")\n",
    "    # fare 결측치 0으로 대체\n",
    "    df['fare'] = df['fare'].fillna(0)\n",
    "    # name 변수에서 title 추출. 수가 적은 title은 일괄적으로 Rare로 대체\n",
    "    df['title'] = df['name'].str.extract('([A-Za-z]+)\\.')\n",
    "    rare_title = [i for i in set(df['title'])\n",
    "                if list(df['title']).count(i) < 10]\n",
    "    df['title'] = df['title'].replace(rare_title, 'Rare')\n",
    "    # age 결측치 title 그룹별 평균으로 대체\n",
    "    df['age'] = df['age'].fillna(df.groupby('title')['age'].transform('mean'))\n",
    "    # cabin_class 변수 생성 (cabin 있으면 1, 없으면 0)\n",
    "    df['cabin_class'] = df['cabin'].apply(lambda x : 1 if type(x) == str else 0)\n",
    "    # family_class 변수 생성 (동승한 가족 있으면 1, 없으면 0)\n",
    "    df['family'] = df['sibsp'] + df['parch']\n",
    "    df['family_class'] = df['family'].apply(lambda x : 1 if x > 0 else 0)\n",
    "    # ticket, name, title, cabin, sibsp, parch, family 변수 삭제 \n",
    "    df_clean = df.drop(columns=['ticket','name','title','cabin','sibsp','parch','family'])\n",
    "    return pd.get_dummies(df_clean, columns = ['sex', 'embarked'], drop_first=True)"
   ]
  },
  {
   "cell_type": "code",
   "execution_count": 6,
   "id": "f3f56a78",
   "metadata": {
    "id": "f3f56a78",
    "outputId": "38a61eca-63eb-4fae-c52e-9c3e424ea6a1"
   },
   "outputs": [
    {
     "data": {
      "text/html": [
       "<div>\n",
       "<style scoped>\n",
       "    .dataframe tbody tr th:only-of-type {\n",
       "        vertical-align: middle;\n",
       "    }\n",
       "\n",
       "    .dataframe tbody tr th {\n",
       "        vertical-align: top;\n",
       "    }\n",
       "\n",
       "    .dataframe thead th {\n",
       "        text-align: right;\n",
       "    }\n",
       "</style>\n",
       "<table border=\"1\" class=\"dataframe\">\n",
       "  <thead>\n",
       "    <tr style=\"text-align: right;\">\n",
       "      <th></th>\n",
       "      <th>survived</th>\n",
       "      <th>pclass</th>\n",
       "      <th>age</th>\n",
       "      <th>fare</th>\n",
       "      <th>cabin_class</th>\n",
       "      <th>family_class</th>\n",
       "      <th>sex_male</th>\n",
       "      <th>embarked_Q</th>\n",
       "      <th>embarked_S</th>\n",
       "    </tr>\n",
       "    <tr>\n",
       "      <th>PassengerId</th>\n",
       "      <th></th>\n",
       "      <th></th>\n",
       "      <th></th>\n",
       "      <th></th>\n",
       "      <th></th>\n",
       "      <th></th>\n",
       "      <th></th>\n",
       "      <th></th>\n",
       "      <th></th>\n",
       "    </tr>\n",
       "  </thead>\n",
       "  <tbody>\n",
       "    <tr>\n",
       "      <th>1</th>\n",
       "      <td>0</td>\n",
       "      <td>3</td>\n",
       "      <td>22.00</td>\n",
       "      <td>7.25</td>\n",
       "      <td>0</td>\n",
       "      <td>1</td>\n",
       "      <td>1</td>\n",
       "      <td>0</td>\n",
       "      <td>1</td>\n",
       "    </tr>\n",
       "    <tr>\n",
       "      <th>2</th>\n",
       "      <td>1</td>\n",
       "      <td>1</td>\n",
       "      <td>38.00</td>\n",
       "      <td>71.28</td>\n",
       "      <td>1</td>\n",
       "      <td>1</td>\n",
       "      <td>0</td>\n",
       "      <td>0</td>\n",
       "      <td>0</td>\n",
       "    </tr>\n",
       "    <tr>\n",
       "      <th>3</th>\n",
       "      <td>1</td>\n",
       "      <td>3</td>\n",
       "      <td>26.00</td>\n",
       "      <td>7.92</td>\n",
       "      <td>0</td>\n",
       "      <td>0</td>\n",
       "      <td>0</td>\n",
       "      <td>0</td>\n",
       "      <td>1</td>\n",
       "    </tr>\n",
       "    <tr>\n",
       "      <th>4</th>\n",
       "      <td>1</td>\n",
       "      <td>1</td>\n",
       "      <td>35.00</td>\n",
       "      <td>53.10</td>\n",
       "      <td>1</td>\n",
       "      <td>1</td>\n",
       "      <td>0</td>\n",
       "      <td>0</td>\n",
       "      <td>1</td>\n",
       "    </tr>\n",
       "    <tr>\n",
       "      <th>5</th>\n",
       "      <td>0</td>\n",
       "      <td>3</td>\n",
       "      <td>35.00</td>\n",
       "      <td>8.05</td>\n",
       "      <td>0</td>\n",
       "      <td>0</td>\n",
       "      <td>1</td>\n",
       "      <td>0</td>\n",
       "      <td>1</td>\n",
       "    </tr>\n",
       "  </tbody>\n",
       "</table>\n",
       "</div>"
      ],
      "text/plain": [
       "             survived  pclass   age  fare  cabin_class  family_class  \\\n",
       "PassengerId                                                            \n",
       "1                   0       3 22.00  7.25            0             1   \n",
       "2                   1       1 38.00 71.28            1             1   \n",
       "3                   1       3 26.00  7.92            0             0   \n",
       "4                   1       1 35.00 53.10            1             1   \n",
       "5                   0       3 35.00  8.05            0             0   \n",
       "\n",
       "             sex_male  embarked_Q  embarked_S  \n",
       "PassengerId                                    \n",
       "1                   1           0           1  \n",
       "2                   0           0           0  \n",
       "3                   0           0           1  \n",
       "4                   0           0           1  \n",
       "5                   1           0           1  "
      ]
     },
     "execution_count": 6,
     "metadata": {},
     "output_type": "execute_result"
    }
   ],
   "source": [
    "df_clean1 = pre_processing(df_raw)\n",
    "df_clean1.head()"
   ]
  },
  {
   "cell_type": "code",
   "execution_count": 7,
   "id": "563b599d",
   "metadata": {
    "id": "563b599d",
    "outputId": "17da1168-9cc3-4053-8954-e9c0d0241261"
   },
   "outputs": [
    {
     "name": "stdout",
     "output_type": "stream",
     "text": [
      "<class 'pandas.core.frame.DataFrame'>\n",
      "Int64Index: 891 entries, 1 to 891\n",
      "Data columns (total 9 columns):\n",
      " #   Column        Non-Null Count  Dtype  \n",
      "---  ------        --------------  -----  \n",
      " 0   survived      891 non-null    int64  \n",
      " 1   pclass        891 non-null    int64  \n",
      " 2   age           891 non-null    float64\n",
      " 3   fare          891 non-null    float64\n",
      " 4   cabin_class   891 non-null    int64  \n",
      " 5   family_class  891 non-null    int64  \n",
      " 6   sex_male      891 non-null    uint8  \n",
      " 7   embarked_Q    891 non-null    uint8  \n",
      " 8   embarked_S    891 non-null    uint8  \n",
      "dtypes: float64(2), int64(4), uint8(3)\n",
      "memory usage: 51.3 KB\n"
     ]
    }
   ],
   "source": [
    "df_clean1.info()"
   ]
  },
  {
   "cell_type": "code",
   "execution_count": 8,
   "id": "56a3ec15",
   "metadata": {
    "id": "56a3ec15",
    "outputId": "62d6de5e-ae4e-4891-be61-b07a1789e216"
   },
   "outputs": [
    {
     "data": {
      "text/html": [
       "<div>\n",
       "<style scoped>\n",
       "    .dataframe tbody tr th:only-of-type {\n",
       "        vertical-align: middle;\n",
       "    }\n",
       "\n",
       "    .dataframe tbody tr th {\n",
       "        vertical-align: top;\n",
       "    }\n",
       "\n",
       "    .dataframe thead th {\n",
       "        text-align: right;\n",
       "    }\n",
       "</style>\n",
       "<table border=\"1\" class=\"dataframe\">\n",
       "  <thead>\n",
       "    <tr style=\"text-align: right;\">\n",
       "      <th></th>\n",
       "      <th>survived</th>\n",
       "      <th>pclass</th>\n",
       "      <th>age</th>\n",
       "      <th>fare</th>\n",
       "      <th>cabin_class</th>\n",
       "      <th>family_class</th>\n",
       "      <th>sex_male</th>\n",
       "      <th>embarked_Q</th>\n",
       "      <th>embarked_S</th>\n",
       "    </tr>\n",
       "  </thead>\n",
       "  <tbody>\n",
       "    <tr>\n",
       "      <th>count</th>\n",
       "      <td>891.00</td>\n",
       "      <td>891.00</td>\n",
       "      <td>891.00</td>\n",
       "      <td>891.00</td>\n",
       "      <td>891.00</td>\n",
       "      <td>891.00</td>\n",
       "      <td>891.00</td>\n",
       "      <td>891.00</td>\n",
       "      <td>891.00</td>\n",
       "    </tr>\n",
       "    <tr>\n",
       "      <th>mean</th>\n",
       "      <td>0.38</td>\n",
       "      <td>2.31</td>\n",
       "      <td>29.76</td>\n",
       "      <td>32.20</td>\n",
       "      <td>0.23</td>\n",
       "      <td>0.40</td>\n",
       "      <td>0.65</td>\n",
       "      <td>0.09</td>\n",
       "      <td>0.73</td>\n",
       "    </tr>\n",
       "    <tr>\n",
       "      <th>std</th>\n",
       "      <td>0.49</td>\n",
       "      <td>0.84</td>\n",
       "      <td>13.28</td>\n",
       "      <td>49.69</td>\n",
       "      <td>0.42</td>\n",
       "      <td>0.49</td>\n",
       "      <td>0.48</td>\n",
       "      <td>0.28</td>\n",
       "      <td>0.45</td>\n",
       "    </tr>\n",
       "    <tr>\n",
       "      <th>min</th>\n",
       "      <td>0.00</td>\n",
       "      <td>1.00</td>\n",
       "      <td>0.42</td>\n",
       "      <td>0.00</td>\n",
       "      <td>0.00</td>\n",
       "      <td>0.00</td>\n",
       "      <td>0.00</td>\n",
       "      <td>0.00</td>\n",
       "      <td>0.00</td>\n",
       "    </tr>\n",
       "    <tr>\n",
       "      <th>25%</th>\n",
       "      <td>0.00</td>\n",
       "      <td>2.00</td>\n",
       "      <td>21.77</td>\n",
       "      <td>7.91</td>\n",
       "      <td>0.00</td>\n",
       "      <td>0.00</td>\n",
       "      <td>0.00</td>\n",
       "      <td>0.00</td>\n",
       "      <td>0.00</td>\n",
       "    </tr>\n",
       "    <tr>\n",
       "      <th>50%</th>\n",
       "      <td>0.00</td>\n",
       "      <td>3.00</td>\n",
       "      <td>30.00</td>\n",
       "      <td>14.45</td>\n",
       "      <td>0.00</td>\n",
       "      <td>0.00</td>\n",
       "      <td>1.00</td>\n",
       "      <td>0.00</td>\n",
       "      <td>1.00</td>\n",
       "    </tr>\n",
       "    <tr>\n",
       "      <th>75%</th>\n",
       "      <td>1.00</td>\n",
       "      <td>3.00</td>\n",
       "      <td>35.90</td>\n",
       "      <td>31.00</td>\n",
       "      <td>0.00</td>\n",
       "      <td>1.00</td>\n",
       "      <td>1.00</td>\n",
       "      <td>0.00</td>\n",
       "      <td>1.00</td>\n",
       "    </tr>\n",
       "    <tr>\n",
       "      <th>max</th>\n",
       "      <td>1.00</td>\n",
       "      <td>3.00</td>\n",
       "      <td>80.00</td>\n",
       "      <td>512.33</td>\n",
       "      <td>1.00</td>\n",
       "      <td>1.00</td>\n",
       "      <td>1.00</td>\n",
       "      <td>1.00</td>\n",
       "      <td>1.00</td>\n",
       "    </tr>\n",
       "  </tbody>\n",
       "</table>\n",
       "</div>"
      ],
      "text/plain": [
       "       survived  pclass    age   fare  cabin_class  family_class  sex_male  \\\n",
       "count    891.00  891.00 891.00 891.00       891.00        891.00    891.00   \n",
       "mean       0.38    2.31  29.76  32.20         0.23          0.40      0.65   \n",
       "std        0.49    0.84  13.28  49.69         0.42          0.49      0.48   \n",
       "min        0.00    1.00   0.42   0.00         0.00          0.00      0.00   \n",
       "25%        0.00    2.00  21.77   7.91         0.00          0.00      0.00   \n",
       "50%        0.00    3.00  30.00  14.45         0.00          0.00      1.00   \n",
       "75%        1.00    3.00  35.90  31.00         0.00          1.00      1.00   \n",
       "max        1.00    3.00  80.00 512.33         1.00          1.00      1.00   \n",
       "\n",
       "       embarked_Q  embarked_S  \n",
       "count      891.00      891.00  \n",
       "mean         0.09        0.73  \n",
       "std          0.28        0.45  \n",
       "min          0.00        0.00  \n",
       "25%          0.00        0.00  \n",
       "50%          0.00        1.00  \n",
       "75%          0.00        1.00  \n",
       "max          1.00        1.00  "
      ]
     },
     "execution_count": 8,
     "metadata": {},
     "output_type": "execute_result"
    }
   ],
   "source": [
    "df_clean1.describe()"
   ]
  },
  {
   "cell_type": "code",
   "execution_count": 9,
   "id": "579288c7",
   "metadata": {
    "id": "579288c7"
   },
   "outputs": [],
   "source": [
    "# 훈련/시험 set 분리\n",
    "X1_train, X1_test, y1_train, y1_test = train_test_split(\n",
    "    df_clean1.drop('survived', axis=1),\n",
    "    df_clean1['survived'], test_size=0.2, random_state=100\n",
    ")"
   ]
  },
  {
   "cell_type": "markdown",
   "id": "c35c6114",
   "metadata": {
    "id": "c35c6114"
   },
   "source": [
    "## 3. 표준화 스케일링"
   ]
  },
  {
   "cell_type": "code",
   "execution_count": 10,
   "id": "98e975cb",
   "metadata": {
    "id": "98e975cb",
    "outputId": "3a0176d3-5b2a-4f4a-fed7-89c6b6210455"
   },
   "outputs": [
    {
     "data": {
      "text/plain": [
       "array([[ 0.84505322, -2.11458232, -0.43457715, ..., -1.38062393,\n",
       "        -0.29780029,  0.60981061],\n",
       "       [ 0.84505322, -0.83725886, -0.48379579, ..., -1.38062393,\n",
       "         3.35795504, -1.6398534 ],\n",
       "       [ 0.84505322, -0.23616546, -0.46887187, ...,  0.7243102 ,\n",
       "        -0.29780029,  0.60981061],\n",
       "       ...,\n",
       "       [ 0.84505322, -0.38643881, -0.29477854, ...,  0.7243102 ,\n",
       "        -0.29780029,  0.60981061],\n",
       "       [ 0.84505322,  0.16717501, -0.18713123, ...,  0.7243102 ,\n",
       "        -0.29780029,  0.60981061],\n",
       "       [ 0.84505322, -1.5886256 , -0.34344275, ..., -1.38062393,\n",
       "        -0.29780029, -1.6398534 ]])"
      ]
     },
     "execution_count": 10,
     "metadata": {},
     "output_type": "execute_result"
    }
   ],
   "source": [
    "st_scaler1 = StandardScaler()\n",
    "X1_train_st_scaled = st_scaler1.fit_transform(X1_train)\n",
    "X1_test_st_scaled = st_scaler1.transform(X1_test)\n",
    "X1_test_st_scaled"
   ]
  },
  {
   "cell_type": "code",
   "execution_count": 11,
   "id": "91a0681d",
   "metadata": {
    "id": "91a0681d",
    "outputId": "f95eda53-61a1-4299-c6aa-ae9ef62546f1",
    "scrolled": true
   },
   "outputs": [
    {
     "data": {
      "text/plain": [
       "array([1, 1, 0, 1, 0, 1, 0, 0, 1, 0, 1, 0, 0, 1, 0, 0, 0, 1, 1, 0, 0, 1,\n",
       "       0, 0, 0, 0, 1, 0, 0, 0, 0, 1, 0, 0, 1, 0, 1, 1, 1, 0, 1, 1, 0, 0,\n",
       "       0, 1, 0, 1, 0, 1, 0, 0, 0, 0, 0, 0, 0, 0, 1, 0, 0, 1, 0, 0, 0, 0,\n",
       "       0, 1, 1, 0, 0, 0, 0, 1, 0, 0, 0, 0, 0, 0, 0, 0, 1, 1, 1, 0, 0, 1,\n",
       "       0, 0, 1, 1, 0, 0, 1, 0, 0, 1, 0, 0, 0, 0, 0, 1, 0, 1, 0, 1, 0, 0,\n",
       "       0, 0, 1, 1, 0, 0, 0, 0, 0, 1, 0, 0, 1, 0, 0, 1, 0, 0, 1, 0, 1, 0,\n",
       "       0, 1, 0, 1, 0, 0, 1, 0, 1, 0, 0, 0, 0, 0, 1, 1, 0, 1, 1, 0, 1, 1,\n",
       "       0, 1, 0, 1, 0, 0, 1, 0, 0, 0, 1, 0, 1, 0, 0, 1, 0, 1, 0, 1, 1, 1,\n",
       "       0, 0, 1], dtype=int64)"
      ]
     },
     "execution_count": 11,
     "metadata": {},
     "output_type": "execute_result"
    }
   ],
   "source": [
    "knn1_st = KNeighborsClassifier()\n",
    "knn1_st.fit(X1_train_st_scaled, y1_train)\n",
    "st_pred1 = knn1_st.predict(X1_test_st_scaled)\n",
    "st_pred1"
   ]
  },
  {
   "cell_type": "code",
   "execution_count": 12,
   "id": "37fd20a7",
   "metadata": {
    "id": "37fd20a7",
    "outputId": "62e90727-0d89-4829-85e7-c2eeb896cbba"
   },
   "outputs": [
    {
     "data": {
      "text/plain": [
       "0.7988826815642458"
      ]
     },
     "execution_count": 12,
     "metadata": {},
     "output_type": "execute_result"
    }
   ],
   "source": [
    "accuracy_score(y1_test, st_pred1)"
   ]
  },
  {
   "cell_type": "markdown",
   "id": "de34e49a",
   "metadata": {
    "id": "de34e49a"
   },
   "source": [
    "## 7. 결과 비교"
   ]
  },
  {
   "cell_type": "code",
   "execution_count": null,
   "id": "4d316c7e",
   "metadata": {},
   "outputs": [],
   "source": [
    "mm_scaler = MinMaxScaler()\n",
    "mm_scaled = mm_scaler.fit_transform(df_train2)\n",
    "df_mm_scaled = pd.DataFrame(mm_scaled, columns = df_train2.columns)\n",
    "df_mm_scaled.describe()"
   ]
  },
  {
   "cell_type": "code",
   "execution_count": 13,
   "id": "b53ef903",
   "metadata": {
    "id": "b53ef903",
    "outputId": "9ea80294-d6e7-4e5a-bc08-f679344eb863"
   },
   "outputs": [
    {
     "ename": "NameError",
     "evalue": "name 'mm_pred1' is not defined",
     "output_type": "error",
     "traceback": [
      "\u001b[1;31m---------------------------------------------------------------------------\u001b[0m",
      "\u001b[1;31mNameError\u001b[0m                                 Traceback (most recent call last)",
      "Input \u001b[1;32mIn [13]\u001b[0m, in \u001b[0;36m<cell line: 2>\u001b[1;34m()\u001b[0m\n\u001b[0;32m      1\u001b[0m \u001b[38;5;66;03m# logistic regression과 비교\u001b[39;00m\n\u001b[1;32m----> 2\u001b[0m result1_pred \u001b[38;5;241m=\u001b[39m [st_pred1, \u001b[43mmm_pred1\u001b[49m, rb_pred1, lr_pred1]\n\u001b[0;32m      3\u001b[0m pd\u001b[38;5;241m.\u001b[39moptions\u001b[38;5;241m.\u001b[39mdisplay\u001b[38;5;241m.\u001b[39mfloat_format \u001b[38;5;241m=\u001b[39m \u001b[38;5;124m'\u001b[39m\u001b[38;5;132;01m{:.4f}\u001b[39;00m\u001b[38;5;124m'\u001b[39m\u001b[38;5;241m.\u001b[39mformat\n\u001b[0;32m      4\u001b[0m result1 \u001b[38;5;241m=\u001b[39m pd\u001b[38;5;241m.\u001b[39mSeries((accuracy_score(y1_test, i) \u001b[38;5;28;01mfor\u001b[39;00m i \u001b[38;5;129;01min\u001b[39;00m result1_pred),\n\u001b[0;32m      5\u001b[0m                     index\u001b[38;5;241m=\u001b[39m[\u001b[38;5;124m\"\u001b[39m\u001b[38;5;124mstandard\u001b[39m\u001b[38;5;124m\"\u001b[39m,\u001b[38;5;124m\"\u001b[39m\u001b[38;5;124mmin-max\u001b[39m\u001b[38;5;124m\"\u001b[39m,\u001b[38;5;124m\"\u001b[39m\u001b[38;5;124mrobust\u001b[39m\u001b[38;5;124m\"\u001b[39m,\u001b[38;5;124m\"\u001b[39m\u001b[38;5;124mlogistic\u001b[39m\u001b[38;5;124m\"\u001b[39m]\n\u001b[0;32m      6\u001b[0m                    ,name\u001b[38;5;241m=\u001b[39m\u001b[38;5;124m\"\u001b[39m\u001b[38;5;124maccuracy_score\u001b[39m\u001b[38;5;124m\"\u001b[39m)\n",
      "\u001b[1;31mNameError\u001b[0m: name 'mm_pred1' is not defined"
     ]
    }
   ],
   "source": [
    "# logistic regression과 비교\n",
    "result1_pred = [st_pred1, mm_pred1, rb_pred1, lr_pred1]\n",
    "pd.options.display.float_format = '{:.4f}'.format\n",
    "result1 = pd.Series((accuracy_score(y1_test, i) for i in result1_pred),\n",
    "                    index=[\"standard\",\"min-max\",\"robust\",\"logistic\"]\n",
    "                   ,name=\"accuracy_score\")\n",
    "result1"
   ]
  },
  {
   "cell_type": "code",
   "execution_count": null,
   "id": "90f7772d",
   "metadata": {
    "id": "90f7772d"
   },
   "outputs": [],
   "source": [
    "# k 값에 따라 비교\n",
    "def result1_k(k) :\n",
    "    # standard\n",
    "    knn1_st_k = KNeighborsClassifier(k)\n",
    "    knn1_st_k.fit(X1_train_st_scaled, y1_train)\n",
    "    st_k_pred1 = knn1_st_k.predict(X1_test_st_scaled)\n",
    "    # min-max\n",
    "    knn1_mm_k = KNeighborsClassifier(k)\n",
    "    knn1_mm_k.fit(X1_train_mm_scaled, y1_train)\n",
    "    mm_k_pred1 = knn1_mm_k.predict(X1_test_mm_scaled)\n",
    "    # robust\n",
    "    knn1_rb_k = KNeighborsClassifier(k)\n",
    "    knn1_rb_k.fit(X1_train_rb_scaled, y1_train)\n",
    "    rb_k_pred1 = knn1_rb_k.predict(X1_test_rb_scaled)\n",
    "    # 결과\n",
    "    result1_k = pd.DataFrame([accuracy_score(y1_test, st_k_pred1),\n",
    "                              accuracy_score(y1_test, mm_k_pred1),\n",
    "                              accuracy_score(y1_test, rb_k_pred1)],\n",
    "                             index=['standard','min-max','robust'], columns=[k])\n",
    "    return result1_k"
   ]
  },
  {
   "cell_type": "code",
   "execution_count": null,
   "id": "d3336cc3",
   "metadata": {
    "id": "d3336cc3",
    "outputId": "9bac3413-6dee-4d6b-e4dc-682d70335aaf"
   },
   "outputs": [],
   "source": [
    "result1_k(10)"
   ]
  },
  {
   "cell_type": "code",
   "execution_count": null,
   "id": "4dfd1b25",
   "metadata": {
    "id": "4dfd1b25"
   },
   "outputs": [],
   "source": [
    "# k값 변화시키며 비교\n",
    "def result1_k_range(a, b) :\n",
    "    result1_k = pd.DataFrame()\n",
    "    for k in range(a, b+1) :\n",
    "        # standard\n",
    "        knn1_st_k = KNeighborsClassifier(k)\n",
    "        knn1_st_k.fit(X1_train_st_scaled, y1_train)\n",
    "        st_k_pred1 = knn1_st_k.predict(X1_test_st_scaled)\n",
    "        # min-max\n",
    "        knn1_mm_k = KNeighborsClassifier(k)\n",
    "        knn1_mm_k.fit(X1_train_mm_scaled, y1_train)\n",
    "        mm_k_pred1 = knn1_mm_k.predict(X1_test_mm_scaled)\n",
    "        # robust\n",
    "        knn1_rb_k = KNeighborsClassifier(k)\n",
    "        knn1_rb_k.fit(X1_train_rb_scaled, y1_train)\n",
    "        rb_k_pred1 = knn1_rb_k.predict(X1_test_rb_scaled)\n",
    "        # 결과 합치기\n",
    "        result1_k = pd.concat([result1_k, \n",
    "                               pd.DataFrame([accuracy_score(y1_test, st_k_pred1),\n",
    "                                             accuracy_score(y1_test, mm_k_pred1),\n",
    "                                             accuracy_score(y1_test, rb_k_pred1)],\n",
    "                                           index=['standard','min-max','robust'], columns=[k]).T])\n",
    "\n",
    "    return result1_k"
   ]
  },
  {
   "cell_type": "code",
   "execution_count": null,
   "id": "072715c3",
   "metadata": {
    "id": "072715c3",
    "outputId": "7b3fb8fa-d352-48d5-e45d-20897556ebe3"
   },
   "outputs": [],
   "source": [
    "result1_k_range(1, 20)"
   ]
  }
 ],
 "metadata": {
  "colab": {
   "collapsed_sections": [],
   "provenance": []
  },
  "kernelspec": {
   "display_name": "Python 3 (ipykernel)",
   "language": "python",
   "name": "python3"
  },
  "language_info": {
   "codemirror_mode": {
    "name": "ipython",
    "version": 3
   },
   "file_extension": ".py",
   "mimetype": "text/x-python",
   "name": "python",
   "nbconvert_exporter": "python",
   "pygments_lexer": "ipython3",
   "version": "3.9.12"
  }
 },
 "nbformat": 4,
 "nbformat_minor": 5
}
